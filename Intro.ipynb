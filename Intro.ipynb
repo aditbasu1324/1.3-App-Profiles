{
 "cells": [
  {
   "cell_type": "markdown",
   "id": "12c12e2a-57f4-4435-96cb-c98f643f6ee4",
   "metadata": {},
   "source": [
    "title\n",
    "\n",
    "What is project about - only build apps that are free to download and install\n",
    "Goal of project- our goal is to determine the kinds of apps that are likely to attract more users because the number of people using our apps affect our revenue."
   ]
  },
  {
   "cell_type": "code",
   "execution_count": 2,
   "id": "cad603fe-9097-40cb-8b7e-1b39a14bb140",
   "metadata": {},
   "outputs": [
    {
     "name": "stdout",
     "output_type": "stream",
     "text": [
      "[['id', 'track_name', 'size_bytes', 'currency', 'price', 'rating_count_tot', 'rating_count_ver', 'user_rating', 'user_rating_ver', 'ver', 'cont_rating', 'prime_genre', 'sup_devices.num', 'ipadSc_urls.num', 'lang.num', 'vpp_lic'], ['284882215', 'Facebook', '389879808', 'USD', '0.0', '2974676', '212', '3.5', '3.5', '95.0', '4+', 'Social Networking', '37', '1', '29', '1']]\n",
      "[['App', 'Category', 'Rating', 'Reviews', 'Size', 'Installs', 'Type', 'Price', 'Content Rating', 'Genres', 'Last Updated', 'Current Ver', 'Android Ver'], ['Photo Editor & Candy Camera & Grid & ScrapBook', 'ART_AND_DESIGN', '4.1', '159', '19M', '10,000+', 'Free', '0', 'Everyone', 'Art & Design', 'January 7, 2018', '1.0.0', '4.0.3 and up']]\n"
     ]
    }
   ],
   "source": [
    "from csv import reader\n",
    "open_file=open(\"C:\\\\Users\\\\Adit\\\\Desktop\\\\Python Projects\\\\Jupyter Project\\\\DataQuest\\\\Data Science App Profiles\\\\AppleStore.csv\",encoding='utf8')\n",
    "read_file=reader(open_file)\n",
    "apple=list(read_file)\n",
    "from csv import reader\n",
    "open_file=open(\"C:\\\\Users\\\\Adit\\\\Desktop\\\\Python Projects\\\\Jupyter Project\\\\DataQuest\\\\Data Science App Profiles\\\\googleplaystore.csv\",encoding='utf8')\n",
    "read_file=reader(open_file)\n",
    "android=list(read_file)\n",
    "print(apple[:2])\n",
    "print(android[:2])"
   ]
  },
  {
   "cell_type": "code",
   "execution_count": 29,
   "id": "87ced59e-afe8-4531-ae6f-60d04424a5c2",
   "metadata": {},
   "outputs": [],
   "source": [
    "def explore_data(dataset,start,end,rows_and_columns=False):\n",
    "    dataset_slice=dataset[start:end]\n",
    "    for row in dataset_slice:\n",
    "        print(row)\n",
    "        print('\\n')\n",
    "    if rows_and_columns:\n",
    "        print(\"Number of rows:\", len(dataset))\n",
    "        print(\"Number of columns:\",len(dataset[0]))"
   ]
  },
  {
   "cell_type": "code",
   "execution_count": 32,
   "id": "5790eef7-08f7-4648-938a-42c184b39de3",
   "metadata": {},
   "outputs": [
    {
     "name": "stdout",
     "output_type": "stream",
     "text": [
      "['284882215', 'Facebook', '389879808', 'USD', '0.0', '2974676', '212', '3.5', '3.5', '95.0', '4+', 'Social Networking', '37', '1', '29', '1']\n",
      "\n",
      "\n",
      "['389801252', 'Instagram', '113954816', 'USD', '0.0', '2161558', '1289', '4.5', '4.0', '10.23', '12+', 'Photo & Video', '37', '0', '29', '1']\n",
      "\n",
      "\n",
      "['529479190', 'Clash of Clans', '116476928', 'USD', '0.0', '2130805', '579', '4.5', '4.5', '9.24.12', '9+', 'Games', '38', '5', '18', '1']\n",
      "\n",
      "\n",
      "Number of rows: 7197\n",
      "Number of columns: 16\n"
     ]
    }
   ],
   "source": [
    "explore_data(apple[1:],0,3,True)"
   ]
  },
  {
   "cell_type": "code",
   "execution_count": 35,
   "id": "88dd2c9e-c956-42df-8c17-001df3f98517",
   "metadata": {},
   "outputs": [],
   "source": [
    "apple_rows=len(apple[1:])\n",
    "apple_columns=len(apple[0])\n",
    "android_row=len(android[1:])\n",
    "android_column=len(android[0])"
   ]
  },
  {
   "cell_type": "markdown",
   "id": "773f3f6f-4517-42c9-81b4-e391eb09df4a",
   "metadata": {},
   "source": [
    "The Google Play dataset has duplicate entries"
   ]
  },
  {
   "cell_type": "code",
   "execution_count": 43,
   "id": "bda76899-2fdb-444d-a81d-587d26f057e3",
   "metadata": {},
   "outputs": [
    {
     "name": "stdout",
     "output_type": "stream",
     "text": [
      "['Instagram', 'SOCIAL', '4.5', '66577313', 'Varies with device', '1,000,000,000+', 'Free', '0', 'Teen', 'Social', 'July 31, 2018', 'Varies with device', 'Varies with device']\n",
      "['Instagram', 'SOCIAL', '4.5', '66577446', 'Varies with device', '1,000,000,000+', 'Free', '0', 'Teen', 'Social', 'July 31, 2018', 'Varies with device', 'Varies with device']\n",
      "['Instagram', 'SOCIAL', '4.5', '66577313', 'Varies with device', '1,000,000,000+', 'Free', '0', 'Teen', 'Social', 'July 31, 2018', 'Varies with device', 'Varies with device']\n",
      "['Instagram', 'SOCIAL', '4.5', '66509917', 'Varies with device', '1,000,000,000+', 'Free', '0', 'Teen', 'Social', 'July 31, 2018', 'Varies with device', 'Varies with device']\n"
     ]
    }
   ],
   "source": [
    "for app in android:\n",
    "    name=app[0]\n",
    "    if name=='Instagram':\n",
    "        print(app)"
   ]
  },
  {
   "cell_type": "code",
   "execution_count": 44,
   "id": "3365f27d-65b8-44a9-a513-99658f80b55f",
   "metadata": {},
   "outputs": [
    {
     "name": "stdout",
     "output_type": "stream",
     "text": [
      "Number of duplicate apps: 1181\n"
     ]
    }
   ],
   "source": [
    "duplicate_apps=[]\n",
    "unique_apps=[]\n",
    "for app in android:\n",
    "    name=app[0]\n",
    "    if name in unique_apps:\n",
    "        duplicate_apps.append(name)\n",
    "    else:\n",
    "        unique_apps.append(name)\n",
    "print('Number of duplicate apps:',len(duplicate_apps))"
   ]
  },
  {
   "cell_type": "markdown",
   "id": "5f002212-ccb7-494c-810e-bcf999127a95",
   "metadata": {},
   "source": [
    "While removing duplicates, we will only save duplicates with the most reviews as they will be more recent than other repeated entries"
   ]
  },
  {
   "cell_type": "code",
   "execution_count": 49,
   "id": "02f43657-fac9-4ba9-9b18-ff969e8c307b",
   "metadata": {},
   "outputs": [
    {
     "name": "stdout",
     "output_type": "stream",
     "text": [
      "9659\n",
      "66577446.0\n"
     ]
    }
   ],
   "source": [
    "reviews_max={}\n",
    "for row in android[1:]:\n",
    "    name=row[0]\n",
    "    n_reviews=float(row[3])\n",
    "    if name in reviews_max and reviews_max[name]<n_reviews:\n",
    "        reviews_max[name]=n_reviews\n",
    "    elif name not in reviews_max:\n",
    "        reviews_max[name]=n_reviews\n",
    "print(len(reviews_max))\n",
    "print(reviews_max[\"Instagram\"])"
   ]
  },
  {
   "cell_type": "code",
   "execution_count": 50,
   "id": "380e85f7-7d78-4bfa-ad34-636c79b9ee6d",
   "metadata": {},
   "outputs": [
    {
     "name": "stdout",
     "output_type": "stream",
     "text": [
      "9659\n",
      "['Instagram', 'SOCIAL', '4.5', '66577446', 'Varies with device', '1,000,000,000+', 'Free', '0', 'Teen', 'Social', 'July 31, 2018', 'Varies with device', 'Varies with device']\n"
     ]
    }
   ],
   "source": [
    "android_clean=[]\n",
    "already_added=[]\n",
    "for row in android[1:]:\n",
    "    name=row[0]\n",
    "    n_reviews=float(row[3])\n",
    "    if n_reviews==reviews_max[name] and name not in already_added:\n",
    "        android_clean.append(row)\n",
    "        already_added.append(name)\n",
    "print(len(android_clean))\n",
    "for row in android_clean:\n",
    "    if row[0]==\"Instagram\":\n",
    "        print(row)"
   ]
  },
  {
   "cell_type": "code",
   "execution_count": 54,
   "id": "7614a233-e46b-4fa3-a992-ede5adbc3e5c",
   "metadata": {},
   "outputs": [],
   "source": [
    "def English_check(string):\n",
    "    count=0\n",
    "    for character in string:\n",
    "        if ord(character)>127 or ord(character)<0:\n",
    "            count+=1\n",
    "    if count>3:\n",
    "        return False\n",
    "    return True"
   ]
  },
  {
   "cell_type": "code",
   "execution_count": 55,
   "id": "eb10f1e7-e94a-4e99-bfdb-215e6c98d013",
   "metadata": {},
   "outputs": [
    {
     "name": "stdout",
     "output_type": "stream",
     "text": [
      "True\n",
      "False\n",
      "True\n",
      "True\n"
     ]
    }
   ],
   "source": [
    "print(English_check('Instagram'))\n",
    "print(English_check('爱奇艺PPS -《欢乐颂2》电视剧热播'))\n",
    "print(English_check('Docs To Go™ Free Office Suite'))\n",
    "print(English_check('Instachat 😜'))"
   ]
  },
  {
   "cell_type": "code",
   "execution_count": 60,
   "id": "7a97f735-670a-4b97-bac6-7febde81d4e4",
   "metadata": {},
   "outputs": [],
   "source": [
    "new_android_clean=[]\n",
    "new_apple=[]\n",
    "for row in android_clean:\n",
    "    if English_check(row[0]):\n",
    "        new_android_clean.append(row)\n",
    "for row in apple[1:]:\n",
    "    if English_check(row[1]):\n",
    "        new_apple.append(row)"
   ]
  },
  {
   "cell_type": "code",
   "execution_count": 62,
   "id": "fbcac9d7-dd3f-4f2d-b838-51cf4fc40838",
   "metadata": {},
   "outputs": [
    {
     "name": "stdout",
     "output_type": "stream",
     "text": [
      "9614\n",
      "6183\n",
      "[['284882215', 'Facebook', '389879808', 'USD', '0.0', '2974676', '212', '3.5', '3.5', '95.0', '4+', 'Social Networking', '37', '1', '29', '1'], ['389801252', 'Instagram', '113954816', 'USD', '0.0', '2161558', '1289', '4.5', '4.0', '10.23', '12+', 'Photo & Video', '37', '0', '29', '1'], ['529479190', 'Clash of Clans', '116476928', 'USD', '0.0', '2130805', '579', '4.5', '4.5', '9.24.12', '9+', 'Games', '38', '5', '18', '1'], ['420009108', 'Temple Run', '65921024', 'USD', '0.0', '1724546', '3842', '4.5', '4.0', '1.6.2', '9+', 'Games', '40', '5', '1', '1']]\n"
     ]
    }
   ],
   "source": [
    "print(len(new_android_clean))\n",
    "print(len(new_apple))\n",
    "print(new_apple[:4])"
   ]
  },
  {
   "cell_type": "code",
   "execution_count": 63,
   "id": "d4ad5b36-1362-4db9-8e23-71b269dd15a2",
   "metadata": {},
   "outputs": [],
   "source": [
    "android_free=[]\n",
    "apple_free=[]\n",
    "for row in new_android_clean:\n",
    "    if row[6]==\"Free\":\n",
    "        android_free.append(row)\n",
    "for row in new_apple:\n",
    "    if float(row[4])==0:\n",
    "        apple_free.append(row)"
   ]
  },
  {
   "cell_type": "code",
   "execution_count": 64,
   "id": "e1146ac5-e9e2-4903-88fa-8b533e3c6d18",
   "metadata": {},
   "outputs": [
    {
     "name": "stdout",
     "output_type": "stream",
     "text": [
      "8863\n",
      "3222\n"
     ]
    }
   ],
   "source": [
    "print(len(android_free))\n",
    "print(len(apple_free))"
   ]
  },
  {
   "cell_type": "markdown",
   "id": "fb5ac1b4-4ba4-4a24-88d7-31a4441c2b11",
   "metadata": {},
   "source": [
    "To minimize risks and overhead, our validation strategy for an app idea has three steps:\n",
    "\n",
    "Build a minimal Android version of the app, and add it to Google Play.\n",
    "If the app has a good response from users, we develop it further.\n",
    "If the app is profitable after six months, we build an iOS version of the app and add it to the App Store.\n",
    "Because our end goal is to add the app on both Google Play and the App Store, we need to find app profiles that are successful in both markets. For instance, a profile that works well for both markets might be a productivity app that makes use of gamification.\n",
    "\n",
    "To find genre, use column 1,9 for category and genre in android and column 11 for prime_genres in apple"
   ]
  },
  {
   "cell_type": "code",
   "execution_count": 68,
   "id": "e0b60800-bbb0-4eb0-aab3-dedc21ebb48c",
   "metadata": {},
   "outputs": [],
   "source": [
    "def freq_table(dataset,index):\n",
    "    temporary={}\n",
    "    for row in dataset:\n",
    "        value=row[index]\n",
    "        if value in temporary:\n",
    "            temporary[value]+=1\n",
    "        else:\n",
    "            temporary[value]=1\n",
    "    output=temporary\n",
    "    for value in output:\n",
    "        output[value]/=(len(dataset)/100)\n",
    "    return output"
   ]
  },
  {
   "cell_type": "code",
   "execution_count": 66,
   "id": "a683fd75-7d07-4575-92f3-0722e24e01af",
   "metadata": {},
   "outputs": [],
   "source": [
    "def display_table(dataset, index):\n",
    "    table = freq_table(dataset, index)\n",
    "    table_display = []\n",
    "    for key in table:\n",
    "        key_val_as_tuple = (table[key], key)\n",
    "        table_display.append(key_val_as_tuple)\n",
    "\n",
    "    table_sorted = sorted(table_display, reverse = True)\n",
    "    for entry in table_sorted:\n",
    "        print(entry[1], ':', entry[0])"
   ]
  },
  {
   "cell_type": "code",
   "execution_count": 71,
   "id": "a578401c-5415-4102-bbbf-2dbfb798c9c8",
   "metadata": {},
   "outputs": [
    {
     "name": "stdout",
     "output_type": "stream",
     "text": [
      "Category\n",
      "FAMILY : 18.8987927338373\n",
      "GAME : 9.72582646959269\n",
      "TOOLS : 8.462146000225658\n",
      "BUSINESS : 4.592124562789124\n",
      "LIFESTYLE : 3.9038700214374367\n",
      "PRODUCTIVITY : 3.8925871601038025\n",
      "FINANCE : 3.700778517432021\n",
      "MEDICAL : 3.5315355974275078\n",
      "SPORTS : 3.3961412614238973\n",
      "PERSONALIZATION : 3.317161232088458\n",
      "COMMUNICATION : 3.2381812027530184\n",
      "HEALTH_AND_FITNESS : 3.0802211440821394\n",
      "PHOTOGRAPHY : 2.944826808078529\n",
      "NEWS_AND_MAGAZINES : 2.798149610741284\n",
      "SOCIAL : 2.6627552747376737\n",
      "TRAVEL_AND_LOCAL : 2.3355522960622817\n",
      "SHOPPING : 2.245289405393208\n",
      "BOOKS_AND_REFERENCE : 2.1437436533905\n",
      "DATING : 1.8616721200496447\n",
      "VIDEO_PLAYERS : 1.7939749520478394\n",
      "MAPS_AND_NAVIGATION : 1.399074805370642\n",
      "FOOD_AND_DRINK : 1.2411147466997632\n",
      "EDUCATION : 1.1621347173643237\n",
      "ENTERTAINMENT : 0.9590432133589079\n",
      "LIBRARIES_AND_DEMO : 0.9364774906916394\n",
      "AUTO_AND_VEHICLES : 0.9251946293580052\n",
      "HOUSE_AND_HOME : 0.8236488773552973\n",
      "WEATHER : 0.8010831546880289\n",
      "EVENTS : 0.7108202640189553\n",
      "PARENTING : 0.6544059573507842\n",
      "ART_AND_DESIGN : 0.64312309601715\n",
      "COMICS : 0.6205573733498816\n",
      "BEAUTY : 0.5979916506826132\n"
     ]
    }
   ],
   "source": [
    "print('Category')\n",
    "display_table(android_free,1)"
   ]
  },
  {
   "cell_type": "code",
   "execution_count": 72,
   "id": "2b0932fd-fd80-4d93-8eeb-b0021f7b90fb",
   "metadata": {},
   "outputs": [
    {
     "name": "stdout",
     "output_type": "stream",
     "text": [
      "Genre\n",
      "Tools : 8.450863138892023\n",
      "Entertainment : 6.070179397495205\n",
      "Education : 5.348076272142616\n",
      "Business : 4.592124562789124\n",
      "Productivity : 3.8925871601038025\n",
      "Lifestyle : 3.8925871601038025\n",
      "Finance : 3.700778517432021\n",
      "Medical : 3.5315355974275078\n",
      "Sports : 3.4638384294257025\n",
      "Personalization : 3.317161232088458\n",
      "Communication : 3.2381812027530184\n",
      "Action : 3.102786866749408\n",
      "Health & Fitness : 3.0802211440821394\n",
      "Photography : 2.944826808078529\n",
      "News & Magazines : 2.798149610741284\n",
      "Social : 2.6627552747376737\n",
      "Travel & Local : 2.3242694347286474\n",
      "Shopping : 2.245289405393208\n",
      "Books & Reference : 2.1437436533905\n",
      "Simulation : 2.0421979013877922\n",
      "Dating : 1.8616721200496447\n",
      "Arcade : 1.8503892587160105\n",
      "Video Players & Editors : 1.771409229380571\n",
      "Casual : 1.7601263680469368\n",
      "Maps & Navigation : 1.399074805370642\n",
      "Food & Drink : 1.2411147466997632\n",
      "Puzzle : 1.128286133363421\n",
      "Racing : 0.9928917973598105\n",
      "Role Playing : 0.9364774906916394\n",
      "Libraries & Demo : 0.9364774906916394\n",
      "Auto & Vehicles : 0.9251946293580052\n",
      "Strategy : 0.9026289066907368\n",
      "House & Home : 0.8236488773552973\n",
      "Weather : 0.8010831546880289\n",
      "Events : 0.7108202640189553\n",
      "Adventure : 0.6769716800180526\n",
      "Comics : 0.6092745120162474\n",
      "Beauty : 0.5979916506826132\n",
      "Art & Design : 0.5979916506826132\n",
      "Parenting : 0.49644589867990524\n",
      "Card : 0.4513144533453684\n",
      "Casino : 0.4287487306781\n",
      "Trivia : 0.4174658693444658\n",
      "Educational;Education : 0.39490014667719736\n",
      "Board : 0.38361728534356315\n",
      "Educational : 0.37233442400992894\n",
      "Education;Education : 0.3384858400090263\n",
      "Word : 0.25950581067358686\n",
      "Casual;Pretend Play : 0.2369400880063184\n",
      "Music : 0.20309150400541578\n",
      "Racing;Action & Adventure : 0.16924292000451316\n",
      "Puzzle;Brain Games : 0.16924292000451316\n",
      "Entertainment;Music & Video : 0.16924292000451316\n",
      "Casual;Brain Games : 0.13539433600361053\n",
      "Casual;Action & Adventure : 0.13539433600361053\n",
      "Arcade;Action & Adventure : 0.12411147466997631\n",
      "Action;Action & Adventure : 0.10154575200270789\n",
      "Educational;Pretend Play : 0.09026289066907368\n",
      "Simulation;Action & Adventure : 0.07898002933543948\n",
      "Parenting;Education : 0.07898002933543948\n",
      "Entertainment;Brain Games : 0.07898002933543948\n",
      "Board;Brain Games : 0.07898002933543948\n",
      "Parenting;Music & Video : 0.06769716800180527\n",
      "Educational;Brain Games : 0.06769716800180527\n",
      "Casual;Creativity : 0.06769716800180527\n",
      "Art & Design;Creativity : 0.06769716800180527\n",
      "Education;Pretend Play : 0.05641430666817105\n",
      "Role Playing;Pretend Play : 0.04513144533453684\n",
      "Education;Creativity : 0.04513144533453684\n",
      "Role Playing;Action & Adventure : 0.03384858400090263\n",
      "Puzzle;Action & Adventure : 0.03384858400090263\n",
      "Entertainment;Creativity : 0.03384858400090263\n",
      "Entertainment;Action & Adventure : 0.03384858400090263\n",
      "Educational;Creativity : 0.03384858400090263\n",
      "Educational;Action & Adventure : 0.03384858400090263\n",
      "Education;Music & Video : 0.03384858400090263\n",
      "Education;Brain Games : 0.03384858400090263\n",
      "Education;Action & Adventure : 0.03384858400090263\n",
      "Adventure;Action & Adventure : 0.03384858400090263\n",
      "Video Players & Editors;Music & Video : 0.02256572266726842\n",
      "Sports;Action & Adventure : 0.02256572266726842\n",
      "Simulation;Pretend Play : 0.02256572266726842\n",
      "Puzzle;Creativity : 0.02256572266726842\n",
      "Music;Music & Video : 0.02256572266726842\n",
      "Entertainment;Pretend Play : 0.02256572266726842\n",
      "Casual;Education : 0.02256572266726842\n",
      "Board;Action & Adventure : 0.02256572266726842\n",
      "Video Players & Editors;Creativity : 0.01128286133363421\n",
      "Trivia;Education : 0.01128286133363421\n",
      "Travel & Local;Action & Adventure : 0.01128286133363421\n",
      "Tools;Education : 0.01128286133363421\n",
      "Strategy;Education : 0.01128286133363421\n",
      "Strategy;Creativity : 0.01128286133363421\n",
      "Strategy;Action & Adventure : 0.01128286133363421\n",
      "Simulation;Education : 0.01128286133363421\n",
      "Role Playing;Brain Games : 0.01128286133363421\n",
      "Racing;Pretend Play : 0.01128286133363421\n",
      "Puzzle;Education : 0.01128286133363421\n",
      "Parenting;Brain Games : 0.01128286133363421\n",
      "Music & Audio;Music & Video : 0.01128286133363421\n",
      "Lifestyle;Pretend Play : 0.01128286133363421\n",
      "Lifestyle;Education : 0.01128286133363421\n",
      "Health & Fitness;Education : 0.01128286133363421\n",
      "Health & Fitness;Action & Adventure : 0.01128286133363421\n",
      "Entertainment;Education : 0.01128286133363421\n",
      "Communication;Creativity : 0.01128286133363421\n",
      "Comics;Creativity : 0.01128286133363421\n",
      "Casual;Music & Video : 0.01128286133363421\n",
      "Card;Action & Adventure : 0.01128286133363421\n",
      "Books & Reference;Education : 0.01128286133363421\n",
      "Art & Design;Pretend Play : 0.01128286133363421\n",
      "Art & Design;Action & Adventure : 0.01128286133363421\n",
      "Arcade;Pretend Play : 0.01128286133363421\n",
      "Adventure;Education : 0.01128286133363421\n"
     ]
    }
   ],
   "source": [
    "print('Genre')\n",
    "display_table(android_free,9)"
   ]
  },
  {
   "cell_type": "code",
   "execution_count": 73,
   "id": "6813b3e7-906b-4e63-a573-0569bc40b979",
   "metadata": {},
   "outputs": [
    {
     "name": "stdout",
     "output_type": "stream",
     "text": [
      "Prime Genre\n",
      "Games : 58.16263190564867\n",
      "Entertainment : 7.883302296710118\n",
      "Photo & Video : 4.9658597144630665\n",
      "Education : 3.6623215394165114\n",
      "Social Networking : 3.289882060831782\n",
      "Shopping : 2.60707635009311\n",
      "Utilities : 2.5139664804469275\n",
      "Sports : 2.1415270018621975\n",
      "Music : 2.048417132216015\n",
      "Health & Fitness : 2.017380509000621\n",
      "Productivity : 1.7380509000620734\n",
      "Lifestyle : 1.5828677839851024\n",
      "News : 1.3345747982619491\n",
      "Travel : 1.2414649286157666\n",
      "Finance : 1.1173184357541899\n",
      "Weather : 0.8690254500310367\n",
      "Food & Drink : 0.8069522036002483\n",
      "Reference : 0.5586592178770949\n",
      "Business : 0.5276225946617008\n",
      "Book : 0.43451272501551835\n",
      "Navigation : 0.186219739292365\n",
      "Medical : 0.186219739292365\n",
      "Catalogs : 0.12414649286157667\n"
     ]
    }
   ],
   "source": [
    "print('Prime Genre')\n",
    "display_table(apple_free,11)"
   ]
  },
  {
   "cell_type": "code",
   "execution_count": 74,
   "id": "6282b1d8-1211-4736-b989-94a2ea145fa1",
   "metadata": {},
   "outputs": [
    {
     "name": "stdout",
     "output_type": "stream",
     "text": [
      "Social Networking\n",
      "71548.34905660378\n",
      "Photo & Video\n",
      "28441.54375\n",
      "Games\n",
      "22788.6696905016\n",
      "Music\n",
      "57326.530303030304\n",
      "Reference\n",
      "74942.11111111111\n",
      "Health & Fitness\n",
      "23298.015384615384\n",
      "Weather\n",
      "52279.892857142855\n",
      "Utilities\n",
      "18684.456790123455\n",
      "Travel\n",
      "28243.8\n",
      "Shopping\n",
      "26919.690476190477\n",
      "News\n",
      "21248.023255813954\n",
      "Navigation\n",
      "86090.33333333333\n",
      "Lifestyle\n",
      "16485.764705882353\n",
      "Entertainment\n",
      "14029.830708661417\n",
      "Food & Drink\n",
      "33333.92307692308\n",
      "Sports\n",
      "23008.898550724636\n",
      "Book\n",
      "39758.5\n",
      "Finance\n",
      "31467.944444444445\n",
      "Education\n",
      "7003.983050847458\n",
      "Productivity\n",
      "21028.410714285714\n",
      "Business\n",
      "7491.117647058823\n",
      "Catalogs\n",
      "4004.0\n",
      "Medical\n",
      "612.0\n"
     ]
    }
   ],
   "source": [
    "apple_table=freq_table(apple_free,11)\n",
    "for genre in apple_table:\n",
    "    total=0\n",
    "    len_genre=0\n",
    "    genre_app=genre\n",
    "    for row in apple_free:\n",
    "        if genre_app==row[11]:\n",
    "            user_rating=float(row[5])\n",
    "            total+=user_rating\n",
    "            len_genre+=1\n",
    "    average_genre=total/len_genre\n",
    "    print(genre_app)\n",
    "    print(average_genre)"
   ]
  },
  {
   "cell_type": "code",
   "execution_count": 80,
   "id": "5557dd3e-bff9-4cdc-b754-2fcc72c56c38",
   "metadata": {},
   "outputs": [
    {
     "name": "stdout",
     "output_type": "stream",
     "text": [
      "ART_AND_DESIGN\n",
      "1986335.0877192982\n",
      "AUTO_AND_VEHICLES\n",
      "647317.8170731707\n",
      "BEAUTY\n",
      "513151.88679245283\n",
      "BOOKS_AND_REFERENCE\n",
      "8767811.894736841\n",
      "BUSINESS\n",
      "1712290.1474201474\n",
      "COMICS\n",
      "817657.2727272727\n",
      "COMMUNICATION\n",
      "38456119.167247385\n",
      "DATING\n",
      "854028.8303030303\n",
      "EDUCATION\n",
      "1833495.145631068\n",
      "ENTERTAINMENT\n",
      "11640705.88235294\n",
      "EVENTS\n",
      "253542.22222222222\n",
      "FINANCE\n",
      "1387692.475609756\n",
      "FOOD_AND_DRINK\n",
      "1924897.7363636363\n",
      "HEALTH_AND_FITNESS\n",
      "4188821.9853479853\n",
      "HOUSE_AND_HOME\n",
      "1331540.5616438356\n",
      "LIBRARIES_AND_DEMO\n",
      "638503.734939759\n",
      "LIFESTYLE\n",
      "1437816.2687861272\n",
      "GAME\n",
      "15588015.603248259\n",
      "FAMILY\n",
      "3697848.1731343283\n",
      "MEDICAL\n",
      "120550.61980830671\n",
      "SOCIAL\n",
      "23253652.127118643\n",
      "SHOPPING\n",
      "7036877.311557789\n",
      "PHOTOGRAPHY\n",
      "17840110.40229885\n",
      "SPORTS\n",
      "3638640.1428571427\n",
      "TRAVEL_AND_LOCAL\n",
      "13984077.710144928\n",
      "TOOLS\n",
      "10801391.298666667\n",
      "PERSONALIZATION\n",
      "5201482.6122448975\n",
      "PRODUCTIVITY\n",
      "16787331.344927534\n",
      "PARENTING\n",
      "542603.6206896552\n",
      "WEATHER\n",
      "5074486.197183099\n",
      "VIDEO_PLAYERS\n",
      "24727872.452830188\n",
      "NEWS_AND_MAGAZINES\n",
      "9549178.467741935\n",
      "MAPS_AND_NAVIGATION\n",
      "4056941.7741935486\n"
     ]
    }
   ],
   "source": [
    "android_table=freq_table(android_free,1)\n",
    "for category in android_table:\n",
    "    total=0\n",
    "    len_category=0\n",
    "    category_app=category\n",
    "    for row in android_free:\n",
    "        if category_app==row[1]:\n",
    "            n_installs=row[5]\n",
    "            n_installs=n_installs.replace('+',\"\")\n",
    "            n_installs=n_installs.replace(',',\"\")\n",
    "            n_installs=float(n_installs)\n",
    "            total+=n_installs\n",
    "            len_category+=1\n",
    "    average_category=total/len_category\n",
    "    print(category_app)\n",
    "    print(average_category)"
   ]
  }
 ],
 "metadata": {
  "kernelspec": {
   "display_name": "Python [conda env:base] *",
   "language": "python",
   "name": "conda-base-py"
  },
  "language_info": {
   "codemirror_mode": {
    "name": "ipython",
    "version": 3
   },
   "file_extension": ".py",
   "mimetype": "text/x-python",
   "name": "python",
   "nbconvert_exporter": "python",
   "pygments_lexer": "ipython3",
   "version": "3.13.5"
  }
 },
 "nbformat": 4,
 "nbformat_minor": 5
}
