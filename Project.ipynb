{
 "cells": [
  {
   "cell_type": "markdown",
   "id": "12c12e2a-57f4-4435-96cb-c98f643f6ee4",
   "metadata": {},
   "source": [
    "# Analyzing App Data\n",
    "\n",
    "## Introduction\n",
    "\n",
    "The goal of this project is to determine the kinds of free apps that are likely to attract English speaking users by analyzing data from the Apple Store and the Google Play Store."
   ]
  },
  {
   "cell_type": "markdown",
   "id": "e02ed266-fe9e-4379-8c85-7c10723d4dd7",
   "metadata": {},
   "source": [
    "## Exploring Data"
   ]
  },
  {
   "cell_type": "code",
   "execution_count": 1,
   "id": "cad603fe-9097-40cb-8b7e-1b39a14bb140",
   "metadata": {},
   "outputs": [],
   "source": [
    "# Loading Data\n",
    "from csv import reader\n",
    "open_file=open(\"AppleStore.csv\",encoding='utf8')\n",
    "read_file=reader(open_file)\n",
    "apple=list(read_file)\n",
    "open_file=open('googleplaystore.csv',encoding='utf8')\n",
    "read_file=reader(open_file)\n",
    "android=list(read_file)"
   ]
  },
  {
   "cell_type": "markdown",
   "id": "7dcb9b55-c1c3-4627-97a1-4a44b215fdad",
   "metadata": {},
   "source": [
    "Datasets loaded above:\n",
    "\n",
    "<a href='https://dq-content.s3.amazonaws.com/350/AppleStore.csv'> AppleStore.csv </a>\n",
    "\n",
    "<a href='https://dq-content.s3.amazonaws.com/350/googleplaystore.csv'> googleplaystore.csv </a>\n"
   ]
  },
  {
   "cell_type": "code",
   "execution_count": 2,
   "id": "87ced59e-afe8-4531-ae6f-60d04424a5c2",
   "metadata": {},
   "outputs": [],
   "source": [
    "# Creating function that allows us to see some rows in dataset \n",
    "def explore_data(dataset,start,end,rows_and_columns=False):\n",
    "    dataset_slice=dataset[start:end]\n",
    "    for row in dataset_slice:\n",
    "        print(row)\n",
    "        print('\\n')\n",
    "    if rows_and_columns:\n",
    "        print(\"Number of rows:\", len(dataset))\n",
    "        print(\"Number of columns:\",len(dataset[0]))"
   ]
  },
  {
   "cell_type": "code",
   "execution_count": 3,
   "id": "49eb8b6d-33cb-40b1-b48e-f9262af84d47",
   "metadata": {},
   "outputs": [
    {
     "name": "stdout",
     "output_type": "stream",
     "text": [
      "['284882215', 'Facebook', '389879808', 'USD', '0.0', '2974676', '212', '3.5', '3.5', '95.0', '4+', 'Social Networking', '37', '1', '29', '1']\n",
      "\n",
      "\n",
      "['389801252', 'Instagram', '113954816', 'USD', '0.0', '2161558', '1289', '4.5', '4.0', '10.23', '12+', 'Photo & Video', '37', '0', '29', '1']\n",
      "\n",
      "\n",
      "['529479190', 'Clash of Clans', '116476928', 'USD', '0.0', '2130805', '579', '4.5', '4.5', '9.24.12', '9+', 'Games', '38', '5', '18', '1']\n",
      "\n",
      "\n",
      "Number of rows: 7197\n",
      "Number of columns: 16\n"
     ]
    }
   ],
   "source": [
    "# Checking data for apple\n",
    "explore_data(apple[1:],0,3,True)"
   ]
  },
  {
   "cell_type": "code",
   "execution_count": 4,
   "id": "fc0f2fd6-cbf4-4eee-a310-9089fdc9eee4",
   "metadata": {},
   "outputs": [
    {
     "data": {
      "text/plain": [
       "['id',\n",
       " 'track_name',\n",
       " 'size_bytes',\n",
       " 'currency',\n",
       " 'price',\n",
       " 'rating_count_tot',\n",
       " 'rating_count_ver',\n",
       " 'user_rating',\n",
       " 'user_rating_ver',\n",
       " 'ver',\n",
       " 'cont_rating',\n",
       " 'prime_genre',\n",
       " 'sup_devices.num',\n",
       " 'ipadSc_urls.num',\n",
       " 'lang.num',\n",
       " 'vpp_lic']"
      ]
     },
     "execution_count": 4,
     "metadata": {},
     "output_type": "execute_result"
    }
   ],
   "source": [
    "#Column Names for apple\n",
    "apple[0]"
   ]
  },
  {
   "cell_type": "markdown",
   "id": "3124e7a9-bc93-4450-81c6-fdbb78751627",
   "metadata": {},
   "source": [
    "The relevant columns are:\n",
    "* 'track_name' (name of the app),\n",
    "* 'price' (to check if its free),  \n",
    "* 'rating_count_tot' (to find total no of ratings since 'installs' isn't available),\n",
    "* 'prime_genre' (to determine the type of app)"
   ]
  },
  {
   "cell_type": "code",
   "execution_count": 5,
   "id": "af633993-d936-44be-9106-e8dd07fcdd49",
   "metadata": {},
   "outputs": [
    {
     "name": "stdout",
     "output_type": "stream",
     "text": [
      "['Photo Editor & Candy Camera & Grid & ScrapBook', 'ART_AND_DESIGN', '4.1', '159', '19M', '10,000+', 'Free', '0', 'Everyone', 'Art & Design', 'January 7, 2018', '1.0.0', '4.0.3 and up']\n",
      "\n",
      "\n",
      "['Coloring book moana', 'ART_AND_DESIGN', '3.9', '967', '14M', '500,000+', 'Free', '0', 'Everyone', 'Art & Design;Pretend Play', 'January 15, 2018', '2.0.0', '4.0.3 and up']\n",
      "\n",
      "\n",
      "['U Launcher Lite – FREE Live Cool Themes, Hide Apps', 'ART_AND_DESIGN', '4.7', '87510', '8.7M', '5,000,000+', 'Free', '0', 'Everyone', 'Art & Design', 'August 1, 2018', '1.2.4', '4.0.3 and up']\n",
      "\n",
      "\n",
      "Number of rows: 10841\n",
      "Number of columns: 13\n"
     ]
    }
   ],
   "source": [
    "# Checking data for android\n",
    "explore_data(android[1:],0,3,True)"
   ]
  },
  {
   "cell_type": "code",
   "execution_count": 7,
   "id": "da106250-d91a-439f-b6dc-ef65582bd257",
   "metadata": {},
   "outputs": [
    {
     "data": {
      "text/plain": [
       "['App',\n",
       " 'Category',\n",
       " 'Rating',\n",
       " 'Reviews',\n",
       " 'Size',\n",
       " 'Installs',\n",
       " 'Type',\n",
       " 'Price',\n",
       " 'Content Rating',\n",
       " 'Genres',\n",
       " 'Last Updated',\n",
       " 'Current Ver',\n",
       " 'Android Ver']"
      ]
     },
     "execution_count": 7,
     "metadata": {},
     "output_type": "execute_result"
    }
   ],
   "source": [
    "#Column names for android\n",
    "android[0]"
   ]
  },
  {
   "cell_type": "markdown",
   "id": "ed18ea8f-33ce-4617-80d1-abc10fb182a7",
   "metadata": {},
   "source": [
    "The relevant columns are:\n",
    "* 'App' (name of the app)\n",
    "* 'Price' and 'Type' (to check if its free)\n",
    "* 'Installs' and 'Reviews' (to find no of users who downloaded the app)\n",
    "* 'Category' and 'Genres' (to determine the type of app)"
   ]
  },
  {
   "cell_type": "markdown",
   "id": "b1366ecc-fe5f-4c14-919d-1d7b534102ba",
   "metadata": {},
   "source": [
    "## Deleting Incorrect Data\n",
    "\n",
    "Error reported in row 10473 (missing category name)"
   ]
  },
  {
   "cell_type": "code",
   "execution_count": 8,
   "id": "395d38f6-3f7b-4644-99e0-50df65b2139a",
   "metadata": {},
   "outputs": [
    {
     "name": "stdout",
     "output_type": "stream",
     "text": [
      "['osmino Wi-Fi: free WiFi', 'TOOLS', '4.2', '134203', '4.1M', '10,000,000+', 'Free', '0', 'Everyone', 'Tools', 'August 7, 2018', '6.06.14', '4.4 and up']\n",
      "10841\n",
      "10840\n"
     ]
    }
   ],
   "source": [
    "# To delete column\n",
    "print(android[10473])\n",
    "print(len(android))\n",
    "del android[10473]\n",
    "print(len(android))"
   ]
  },
  {
   "cell_type": "markdown",
   "id": "773f3f6f-4517-42c9-81b4-e391eb09df4a",
   "metadata": {},
   "source": [
    "## Dealing with duplicate entries\n",
    "\n",
    "The dataset android has multiple duplicate entries\n",
    "\n",
    "An example is provided below:"
   ]
  },
  {
   "cell_type": "code",
   "execution_count": 9,
   "id": "bda76899-2fdb-444d-a81d-587d26f057e3",
   "metadata": {},
   "outputs": [
    {
     "name": "stdout",
     "output_type": "stream",
     "text": [
      "['Instagram', 'SOCIAL', '4.5', '66577313', 'Varies with device', '1,000,000,000+', 'Free', '0', 'Teen', 'Social', 'July 31, 2018', 'Varies with device', 'Varies with device']\n",
      "['Instagram', 'SOCIAL', '4.5', '66577446', 'Varies with device', '1,000,000,000+', 'Free', '0', 'Teen', 'Social', 'July 31, 2018', 'Varies with device', 'Varies with device']\n",
      "['Instagram', 'SOCIAL', '4.5', '66577313', 'Varies with device', '1,000,000,000+', 'Free', '0', 'Teen', 'Social', 'July 31, 2018', 'Varies with device', 'Varies with device']\n",
      "['Instagram', 'SOCIAL', '4.5', '66509917', 'Varies with device', '1,000,000,000+', 'Free', '0', 'Teen', 'Social', 'July 31, 2018', 'Varies with device', 'Varies with device']\n"
     ]
    }
   ],
   "source": [
    "for app in android:\n",
    "    name=app[0]\n",
    "    if name=='Instagram':\n",
    "        print(app)"
   ]
  },
  {
   "cell_type": "markdown",
   "id": "4f3c0be8-dc43-40e6-bef6-31238d492c7c",
   "metadata": {},
   "source": [
    "To determine the duplicate apps"
   ]
  },
  {
   "cell_type": "code",
   "execution_count": 10,
   "id": "3365f27d-65b8-44a9-a513-99658f80b55f",
   "metadata": {},
   "outputs": [
    {
     "name": "stdout",
     "output_type": "stream",
     "text": [
      "Number of duplicate apps: 1180\n"
     ]
    }
   ],
   "source": [
    "duplicate_apps=[]\n",
    "unique_apps=[]\n",
    "for app in android:\n",
    "    name=app[0]\n",
    "    if name in unique_apps:\n",
    "        duplicate_apps.append(name)\n",
    "    else:\n",
    "        unique_apps.append(name)\n",
    "print('Number of duplicate apps:',len(duplicate_apps))"
   ]
  },
  {
   "cell_type": "markdown",
   "id": "5f002212-ccb7-494c-810e-bcf999127a95",
   "metadata": {},
   "source": [
    "While removing duplicates, we will only save duplicates with the most reviews as they will be more recent than other repeated entries"
   ]
  },
  {
   "cell_type": "code",
   "execution_count": 11,
   "id": "02f43657-fac9-4ba9-9b18-ff969e8c307b",
   "metadata": {},
   "outputs": [
    {
     "name": "stdout",
     "output_type": "stream",
     "text": [
      "9659\n",
      "66577446.0\n"
     ]
    }
   ],
   "source": [
    "reviews_max={}\n",
    "for row in android[1:]:\n",
    "    name=row[0]\n",
    "    n_reviews=float(row[3])\n",
    "    if name in reviews_max and reviews_max[name]<n_reviews:\n",
    "        reviews_max[name]=n_reviews\n",
    "    elif name not in reviews_max:\n",
    "        reviews_max[name]=n_reviews\n",
    "print(len(reviews_max))\n",
    "# To check that sorting process worked\n",
    "print(reviews_max[\"Instagram\"])"
   ]
  },
  {
   "cell_type": "markdown",
   "id": "b5d626d2-f796-4aed-9a25-db1de733e156",
   "metadata": {},
   "source": [
    "Now, we can find all rows with the maximum number of reviews for each unique app and hence create a new dataset with no duplicates"
   ]
  },
  {
   "cell_type": "code",
   "execution_count": 12,
   "id": "380e85f7-7d78-4bfa-ad34-636c79b9ee6d",
   "metadata": {},
   "outputs": [
    {
     "name": "stdout",
     "output_type": "stream",
     "text": [
      "9659\n",
      "['Instagram', 'SOCIAL', '4.5', '66577446', 'Varies with device', '1,000,000,000+', 'Free', '0', 'Teen', 'Social', 'July 31, 2018', 'Varies with device', 'Varies with device']\n"
     ]
    }
   ],
   "source": [
    "android_clean=[]\n",
    "already_added=[]\n",
    "for row in android[1:]:\n",
    "    name=row[0]\n",
    "    n_reviews=float(row[3])\n",
    "    if n_reviews==reviews_max[name] and name not in already_added:\n",
    "        # Need name not in already_added as there may be multiple duplicates with largest no of reviews\n",
    "        android_clean.append(row)\n",
    "        already_added.append(name)\n",
    "print(len(android_clean))\n",
    "# To check that only one value remains\n",
    "for row in android_clean:\n",
    "    if row[0]==\"Instagram\":\n",
    "        print(row)"
   ]
  },
  {
   "cell_type": "markdown",
   "id": "676f4c17-a3af-4666-81c3-4172c0f057d5",
   "metadata": {},
   "source": [
    "There are no duplicates in the apple database (id column)"
   ]
  },
  {
   "cell_type": "markdown",
   "id": "ce1b1db9-ce90-48ae-9960-bbac20914c92",
   "metadata": {},
   "source": [
    "## Filtering Apps to only have English names\n",
    "\n",
    "The function checks if the string has 3 or more characters (to account for emojis etc) that don't belong to the set of common English characters"
   ]
  },
  {
   "cell_type": "code",
   "execution_count": 13,
   "id": "7614a233-e46b-4fa3-a992-ede5adbc3e5c",
   "metadata": {},
   "outputs": [],
   "source": [
    "def English_check(string):\n",
    "    count=0\n",
    "    for character in string:\n",
    "        if ord(character)>127 or ord(character)<0:\n",
    "            count+=1\n",
    "    if count>3:\n",
    "        return False\n",
    "    return True"
   ]
  },
  {
   "cell_type": "code",
   "execution_count": 14,
   "id": "eb10f1e7-e94a-4e99-bfdb-215e6c98d013",
   "metadata": {},
   "outputs": [
    {
     "name": "stdout",
     "output_type": "stream",
     "text": [
      "True\n",
      "False\n",
      "True\n",
      "True\n"
     ]
    }
   ],
   "source": [
    "print(English_check('Instagram'))\n",
    "print(English_check('爱奇艺PPS -《欢乐颂2》电视剧热播'))\n",
    "print(English_check('Docs To Go™ Free Office Suite'))\n",
    "print(English_check('Instachat 😜'))"
   ]
  },
  {
   "cell_type": "markdown",
   "id": "9906536d-453a-4015-895f-ca598a55a1c6",
   "metadata": {},
   "source": [
    "Creating the English name datasets for both android and apple"
   ]
  },
  {
   "cell_type": "code",
   "execution_count": 15,
   "id": "7a97f735-670a-4b97-bac6-7febde81d4e4",
   "metadata": {},
   "outputs": [],
   "source": [
    "new_android_clean=[]\n",
    "new_apple=[]\n",
    "for row in android_clean:\n",
    "    if English_check(row[0]):\n",
    "        new_android_clean.append(row)\n",
    "for row in apple[1:]:\n",
    "    if English_check(row[1]):\n",
    "        new_apple.append(row)"
   ]
  },
  {
   "cell_type": "code",
   "execution_count": 18,
   "id": "27874c30-049c-45ef-8441-6df268380eaa",
   "metadata": {},
   "outputs": [
    {
     "name": "stdout",
     "output_type": "stream",
     "text": [
      "9614\n",
      "6183\n"
     ]
    }
   ],
   "source": [
    "print(len(new_android_clean))\n",
    "print(len(new_apple))"
   ]
  },
  {
   "cell_type": "markdown",
   "id": "71270c88-b271-417a-8c61-3925891c01a8",
   "metadata": {},
   "source": [
    "Android dataset has 9614 rows and Apple dataset has 6183 rows"
   ]
  },
  {
   "cell_type": "markdown",
   "id": "e7b4cfe0-3d0e-4f10-8d08-80c880d92a6b",
   "metadata": {},
   "source": [
    "## Isolating free apps in both datasets"
   ]
  },
  {
   "cell_type": "code",
   "execution_count": 17,
   "id": "d4ad5b36-1362-4db9-8e23-71b269dd15a2",
   "metadata": {},
   "outputs": [],
   "source": [
    "android_free=[]\n",
    "apple_free=[]\n",
    "for row in new_android_clean:\n",
    "    # type column for android\n",
    "    if row[7]=='0':\n",
    "        android_free.append(row)\n",
    "for row in new_apple:\n",
    "    # price column for apple\n",
    "    if float(row[4])==0:\n",
    "        apple_free.append(row)"
   ]
  },
  {
   "cell_type": "code",
   "execution_count": 21,
   "id": "e1146ac5-e9e2-4903-88fa-8b533e3c6d18",
   "metadata": {},
   "outputs": [
    {
     "name": "stdout",
     "output_type": "stream",
     "text": [
      "8864\n",
      "3222\n"
     ]
    }
   ],
   "source": [
    "# Could covert using markdown\n",
    "print(len(android_free))\n",
    "print(len(apple_free))"
   ]
  },
  {
   "cell_type": "markdown",
   "id": "fb5ac1b4-4ba4-4a24-88d7-31a4441c2b11",
   "metadata": {},
   "source": [
    "Android dataset has 8864 rows and apple dataset has 3222 rows\n",
    "\n",
    "## Determining Genre\n",
    "\n",
    "As mentioned before to find genre, we will use column 1,9 for 'category' and 'genre' in android and column 11 for 'prime_genres' in apple.\n",
    "\n",
    "First we create a frequence table to find the number of apps of each type"
   ]
  },
  {
   "cell_type": "code",
   "execution_count": 22,
   "id": "e0b60800-bbb0-4eb0-aab3-dedc21ebb48c",
   "metadata": {},
   "outputs": [],
   "source": [
    "# Creating frequency table that outputs percentage share of each genre\n",
    "def freq_table(dataset,index):\n",
    "    temporary={}\n",
    "    for row in dataset:\n",
    "        value=row[index]\n",
    "        if value in temporary:\n",
    "            temporary[value]+=1\n",
    "        else:\n",
    "            temporary[value]=1\n",
    "    output=temporary\n",
    "    for value in output:\n",
    "        output[value]/=(len(dataset)/100)\n",
    "    return output"
   ]
  },
  {
   "cell_type": "code",
   "execution_count": 23,
   "id": "a683fd75-7d07-4575-92f3-0722e24e01af",
   "metadata": {},
   "outputs": [],
   "source": [
    "# Displaying entire frequency table\n",
    "def display_table(dataset, index):\n",
    "    table = freq_table(dataset, index)\n",
    "    table_display = []\n",
    "    for key in table:\n",
    "        key_val_as_tuple = (table[key], key)\n",
    "        table_display.append(key_val_as_tuple)\n",
    "\n",
    "    table_sorted = sorted(table_display, reverse = True)\n",
    "    for entry in table_sorted:\n",
    "        print(entry[1], ':', entry[0])"
   ]
  },
  {
   "cell_type": "markdown",
   "id": "c9b55af7-5c5e-4467-95e2-c7e305cbeada",
   "metadata": {},
   "source": [
    "### Finding genre for apple"
   ]
  },
  {
   "cell_type": "markdown",
   "id": "8cf4031f-4feb-4bbb-8932-912fbb309cc2",
   "metadata": {},
   "source": [
    "First we find a frequency table for apple"
   ]
  },
  {
   "cell_type": "code",
   "execution_count": 25,
   "id": "6813b3e7-906b-4e63-a573-0569bc40b979",
   "metadata": {},
   "outputs": [
    {
     "name": "stdout",
     "output_type": "stream",
     "text": [
      "Prime Genre\n",
      "Games : 58.16263190564867\n",
      "Entertainment : 7.883302296710118\n",
      "Photo & Video : 4.9658597144630665\n",
      "Education : 3.6623215394165114\n",
      "Social Networking : 3.289882060831782\n",
      "Shopping : 2.60707635009311\n",
      "Utilities : 2.5139664804469275\n",
      "Sports : 2.1415270018621975\n",
      "Music : 2.048417132216015\n",
      "Health & Fitness : 2.017380509000621\n",
      "Productivity : 1.7380509000620734\n",
      "Lifestyle : 1.5828677839851024\n",
      "News : 1.3345747982619491\n",
      "Travel : 1.2414649286157666\n",
      "Finance : 1.1173184357541899\n",
      "Weather : 0.8690254500310367\n",
      "Food & Drink : 0.8069522036002483\n",
      "Reference : 0.5586592178770949\n",
      "Business : 0.5276225946617008\n",
      "Book : 0.43451272501551835\n",
      "Navigation : 0.186219739292365\n",
      "Medical : 0.186219739292365\n",
      "Catalogs : 0.12414649286157667\n"
     ]
    }
   ],
   "source": [
    "# Frequency table for apple\n",
    "print('Prime Genre')\n",
    "display_table(apple_free,11)"
   ]
  },
  {
   "cell_type": "markdown",
   "id": "c5f09767-838b-4393-812a-97b280e03691",
   "metadata": {},
   "source": [
    "A majority of these apps are games\n",
    "\n",
    "Then we find a frequency table for average installs to determine which apps are more popular"
   ]
  },
  {
   "cell_type": "code",
   "execution_count": 26,
   "id": "6282b1d8-1211-4736-b989-94a2ea145fa1",
   "metadata": {},
   "outputs": [
    {
     "data": {
      "text/plain": [
       "{'Navigation': 86090.33333333333,\n",
       " 'Reference': 74942.11111111111,\n",
       " 'Social Networking': 71548.34905660378,\n",
       " 'Music': 57326.530303030304,\n",
       " 'Weather': 52279.892857142855,\n",
       " 'Book': 39758.5,\n",
       " 'Food & Drink': 33333.92307692308,\n",
       " 'Finance': 31467.944444444445,\n",
       " 'Photo & Video': 28441.54375,\n",
       " 'Travel': 28243.8,\n",
       " 'Shopping': 26919.690476190477,\n",
       " 'Health & Fitness': 23298.015384615384,\n",
       " 'Sports': 23008.898550724636,\n",
       " 'Games': 22788.6696905016,\n",
       " 'News': 21248.023255813954,\n",
       " 'Productivity': 21028.410714285714,\n",
       " 'Utilities': 18684.456790123455,\n",
       " 'Lifestyle': 16485.764705882353,\n",
       " 'Entertainment': 14029.830708661417,\n",
       " 'Business': 7491.117647058823,\n",
       " 'Education': 7003.983050847458,\n",
       " 'Catalogs': 4004.0,\n",
       " 'Medical': 612.0}"
      ]
     },
     "execution_count": 26,
     "metadata": {},
     "output_type": "execute_result"
    }
   ],
   "source": [
    "#Average installs for apple created by using 'ratings_count_tot'\n",
    "apple_table=freq_table(apple_free,11)\n",
    "output={}\n",
    "for genre in apple_table:\n",
    "    total=0\n",
    "    len_genre=0\n",
    "    genre_app=genre\n",
    "    for row in apple_free:\n",
    "        if genre_app==row[11]:\n",
    "            user_rating=float(row[5])\n",
    "            total+=user_rating\n",
    "            len_genre+=1\n",
    "    average_genre=total/len_genre\n",
    "    output[genre_app]=average_genre\n",
    "output=dict(sorted(output.items(),key=lambda x:x[1],reverse=True))\n",
    "output"
   ]
  },
  {
   "cell_type": "markdown",
   "id": "2010d9bf-756a-4307-a59e-3f5e172f5c21",
   "metadata": {},
   "source": [
    "The best genre is probably 'Social Networking' since it is top 5 under both tests"
   ]
  },
  {
   "cell_type": "markdown",
   "id": "ded9b52f-f031-41e5-9795-34754c451f9d",
   "metadata": {},
   "source": [
    "### Finding genre for android"
   ]
  },
  {
   "cell_type": "code",
   "execution_count": 28,
   "id": "a578401c-5415-4102-bbbf-2dbfb798c9c8",
   "metadata": {},
   "outputs": [
    {
     "name": "stdout",
     "output_type": "stream",
     "text": [
      "Category\n",
      "FAMILY : 18.907942238267147\n",
      "GAME : 9.724729241877256\n",
      "TOOLS : 8.461191335740072\n",
      "BUSINESS : 4.591606498194946\n",
      "LIFESTYLE : 3.9034296028880866\n",
      "PRODUCTIVITY : 3.892148014440433\n",
      "FINANCE : 3.700361010830325\n",
      "MEDICAL : 3.5311371841155235\n",
      "SPORTS : 3.395758122743682\n",
      "PERSONALIZATION : 3.3167870036101084\n",
      "COMMUNICATION : 3.237815884476534\n",
      "HEALTH_AND_FITNESS : 3.079873646209386\n",
      "PHOTOGRAPHY : 2.9444945848375452\n",
      "NEWS_AND_MAGAZINES : 2.7978339350180503\n",
      "SOCIAL : 2.6624548736462095\n",
      "TRAVEL_AND_LOCAL : 2.33528880866426\n",
      "SHOPPING : 2.2450361010830324\n",
      "BOOKS_AND_REFERENCE : 2.1435018050541514\n",
      "DATING : 1.861462093862816\n",
      "VIDEO_PLAYERS : 1.7937725631768953\n",
      "MAPS_AND_NAVIGATION : 1.3989169675090252\n",
      "FOOD_AND_DRINK : 1.2409747292418774\n",
      "EDUCATION : 1.1620036101083033\n",
      "ENTERTAINMENT : 0.9589350180505415\n",
      "LIBRARIES_AND_DEMO : 0.9363718411552346\n",
      "AUTO_AND_VEHICLES : 0.9250902527075813\n",
      "HOUSE_AND_HOME : 0.8235559566787004\n",
      "WEATHER : 0.8009927797833934\n",
      "EVENTS : 0.7107400722021661\n",
      "PARENTING : 0.6543321299638989\n",
      "ART_AND_DESIGN : 0.6430505415162455\n",
      "COMICS : 0.6204873646209387\n",
      "BEAUTY : 0.5979241877256317\n"
     ]
    }
   ],
   "source": [
    "# Frequency table for android\n",
    "print('Category')\n",
    "display_table(android_free,1)"
   ]
  },
  {
   "cell_type": "markdown",
   "id": "20cf1c13-b99c-4fa7-9700-d44af30dff06",
   "metadata": {},
   "source": [
    "Family is the most at 18% at then Games is second at 9%. The data is more spread out between genres compared to Apple"
   ]
  },
  {
   "cell_type": "code",
   "execution_count": 36,
   "id": "2b0932fd-fd80-4d93-8eeb-b0021f7b90fb",
   "metadata": {},
   "outputs": [],
   "source": [
    "# Other possible frequency table for android\n",
    "#print('Genre')\n",
    "#display_table(android_free,9)"
   ]
  },
  {
   "cell_type": "markdown",
   "id": "782755ff-d727-4232-bcc0-e1ac18cc2fdd",
   "metadata": {},
   "source": [
    "Tools is the most followed by entertainment. There are a lot of values in this table so we can ignore it and use the first table"
   ]
  },
  {
   "cell_type": "code",
   "execution_count": 34,
   "id": "5557dd3e-bff9-4cdc-b754-2fcc72c56c38",
   "metadata": {},
   "outputs": [
    {
     "data": {
      "text/plain": [
       "{'COMMUNICATION': 38456119.167247385,\n",
       " 'VIDEO_PLAYERS': 24727872.452830188,\n",
       " 'SOCIAL': 23253652.127118643,\n",
       " 'PHOTOGRAPHY': 17840110.40229885,\n",
       " 'PRODUCTIVITY': 16787331.344927534,\n",
       " 'GAME': 15588015.603248259,\n",
       " 'TRAVEL_AND_LOCAL': 13984077.710144928,\n",
       " 'ENTERTAINMENT': 11640705.88235294,\n",
       " 'TOOLS': 10801391.298666667,\n",
       " 'NEWS_AND_MAGAZINES': 9549178.467741935,\n",
       " 'BOOKS_AND_REFERENCE': 8767811.894736841,\n",
       " 'SHOPPING': 7036877.311557789,\n",
       " 'PERSONALIZATION': 5201482.6122448975,\n",
       " 'WEATHER': 5074486.197183099,\n",
       " 'HEALTH_AND_FITNESS': 4188821.9853479853,\n",
       " 'MAPS_AND_NAVIGATION': 4056941.7741935486,\n",
       " 'FAMILY': 3695641.8198090694,\n",
       " 'SPORTS': 3638640.1428571427,\n",
       " 'ART_AND_DESIGN': 1986335.0877192982,\n",
       " 'FOOD_AND_DRINK': 1924897.7363636363,\n",
       " 'EDUCATION': 1833495.145631068,\n",
       " 'BUSINESS': 1712290.1474201474,\n",
       " 'LIFESTYLE': 1437816.2687861272,\n",
       " 'FINANCE': 1387692.475609756,\n",
       " 'HOUSE_AND_HOME': 1331540.5616438356,\n",
       " 'DATING': 854028.8303030303,\n",
       " 'COMICS': 817657.2727272727,\n",
       " 'AUTO_AND_VEHICLES': 647317.8170731707,\n",
       " 'LIBRARIES_AND_DEMO': 638503.734939759,\n",
       " 'PARENTING': 542603.6206896552,\n",
       " 'BEAUTY': 513151.88679245283,\n",
       " 'EVENTS': 253542.22222222222,\n",
       " 'MEDICAL': 120550.61980830671}"
      ]
     },
     "execution_count": 34,
     "metadata": {},
     "output_type": "execute_result"
    }
   ],
   "source": [
    "# Average installs for android created using 'Installs'\n",
    "android_table=freq_table(android_free,1)\n",
    "output={}\n",
    "for category in android_table:\n",
    "    total=0\n",
    "    len_category=0\n",
    "    category_app=category\n",
    "    for row in android_free:\n",
    "        if category_app==row[1]:\n",
    "            n_installs=row[5]\n",
    "            n_installs=n_installs.replace('+',\"\")\n",
    "            n_installs=n_installs.replace(',',\"\")\n",
    "            n_installs=float(n_installs)\n",
    "            total+=n_installs\n",
    "            len_category+=1\n",
    "    average_category=total/len_category\n",
    "    output[category_app]=average_category\n",
    "output=dict(sorted(output.items(),key=lambda x:x[1],reverse=True))\n",
    "output"
   ]
  },
  {
   "cell_type": "markdown",
   "id": "3c2414a4-e53d-4997-a6dd-203c39243af9",
   "metadata": {},
   "source": [
    "Most categories have a few apps dominating entire dataset, want to take averages after removing huge apps to get a better understanding of which genre to choose\n",
    "\n",
    "The next frequency table only consider apps below 100M downloads"
   ]
  },
  {
   "cell_type": "code",
   "execution_count": 29,
   "id": "5400a759-f179-4295-ae86-76542cf2c0a6",
   "metadata": {},
   "outputs": [
    {
     "data": {
      "text/plain": [
       "{'PHOTOGRAPHY': 14062572.365384616,\n",
       " 'GAME': 12178377.421236873,\n",
       " 'ENTERTAINMENT': 11640705.88235294,\n",
       " 'COMMUNICATION': 9191689.13405797,\n",
       " 'VIDEO_PLAYERS': 9177767.435897436,\n",
       " 'PRODUCTIVITY': 8210674.4529411765,\n",
       " 'SHOPPING': 7036877.311557789,\n",
       " 'SOCIAL': 6440960.614718615,\n",
       " 'TOOLS': 6184198.2177419355,\n",
       " 'PERSONALIZATION': 5201482.6122448975,\n",
       " 'WEATHER': 5074486.197183099,\n",
       " 'TRAVEL_AND_LOCAL': 4364410.175609756,\n",
       " 'MAPS_AND_NAVIGATION': 4056941.7741935486,\n",
       " 'SPORTS': 3638640.1428571427,\n",
       " 'BOOKS_AND_REFERENCE': 3523197.1428571427,\n",
       " 'FAMILY': 3100833.247761194,\n",
       " 'HEALTH_AND_FITNESS': 2365986.7720588236,\n",
       " 'ART_AND_DESIGN': 1986335.0877192982,\n",
       " 'FOOD_AND_DRINK': 1924897.7363636363,\n",
       " 'EDUCATION': 1833495.145631068,\n",
       " 'BUSINESS': 1712290.1474201474,\n",
       " 'NEWS_AND_MAGAZINES': 1502841.8775510204,\n",
       " 'LIFESTYLE': 1437816.2687861272,\n",
       " 'FINANCE': 1387692.475609756,\n",
       " 'HOUSE_AND_HOME': 1331540.5616438356,\n",
       " 'DATING': 854028.8303030303,\n",
       " 'COMICS': 817657.2727272727,\n",
       " 'AUTO_AND_VEHICLES': 647317.8170731707,\n",
       " 'LIBRARIES_AND_DEMO': 638503.734939759,\n",
       " 'PARENTING': 542603.6206896552,\n",
       " 'BEAUTY': 513151.88679245283,\n",
       " 'EVENTS': 253542.22222222222,\n",
       " 'MEDICAL': 120550.61980830671}"
      ]
     },
     "execution_count": 29,
     "metadata": {},
     "output_type": "execute_result"
    }
   ],
   "source": [
    "# Add condition on n_installs\n",
    "android_table=freq_table(android_free,1)\n",
    "output={}\n",
    "for category in android_table:\n",
    "    total=0\n",
    "    len_category=0\n",
    "    category_app=category\n",
    "    for row in android_free:\n",
    "        if category_app==row[1]:\n",
    "            n_installs=row[5]\n",
    "            n_installs=n_installs.replace('+',\"\")\n",
    "            n_installs=n_installs.replace(',',\"\")\n",
    "            n_installs=float(n_installs)\n",
    "            if n_installs<=100000000:\n",
    "                total+=n_installs\n",
    "                len_category+=1\n",
    "    average_category=total/len_category\n",
    "    output[category_app]=average_category\n",
    "output=dict(sorted(output.items(),key=lambda x:x[1],reverse=True))\n",
    "output"
   ]
  },
  {
   "cell_type": "markdown",
   "id": "80b231c5-73c7-4f02-a0cb-5a498d1ba7cd",
   "metadata": {},
   "source": [
    "So, it appears that the best genre in android section is Photography"
   ]
  },
  {
   "cell_type": "markdown",
   "id": "a96470a4-5f12-4659-8395-c3a036abbe50",
   "metadata": {},
   "source": [
    "## Conclusions\n",
    "By combining information from apple and android dataset it appears that the best type of new app is a social media app involving photography."
   ]
  }
 ],
 "metadata": {
  "kernelspec": {
   "display_name": "Python [conda env:base] *",
   "language": "python",
   "name": "conda-base-py"
  },
  "language_info": {
   "codemirror_mode": {
    "name": "ipython",
    "version": 3
   },
   "file_extension": ".py",
   "mimetype": "text/x-python",
   "name": "python",
   "nbconvert_exporter": "python",
   "pygments_lexer": "ipython3",
   "version": "3.13.5"
  }
 },
 "nbformat": 4,
 "nbformat_minor": 5
}
